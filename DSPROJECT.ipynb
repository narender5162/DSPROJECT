{
  "nbformat": 4,
  "nbformat_minor": 0,
  "metadata": {
    "colab": {
      "provenance": [],
      "authorship_tag": "ABX9TyOGoR0vTfpC0I86zi78fclp",
      "include_colab_link": true
    },
    "kernelspec": {
      "name": "python3",
      "display_name": "Python 3"
    },
    "language_info": {
      "name": "python"
    }
  },
  "cells": [
    {
      "cell_type": "markdown",
      "metadata": {
        "id": "view-in-github",
        "colab_type": "text"
      },
      "source": [
        "<a href=\"https://colab.research.google.com/github/narender5162/DSPROJECT/blob/main/DSPROJECT.ipynb\" target=\"_parent\"><img src=\"https://colab.research.google.com/assets/colab-badge.svg\" alt=\"Open In Colab\"/></a>"
      ]
    },
    {
      "cell_type": "code",
      "source": [
        "!git clone https://github.com/narender5162/DSPROJECT.git"
      ],
      "metadata": {
        "id": "-XzC3e0DNweh",
        "colab": {
          "base_uri": "https://localhost:8080/"
        },
        "outputId": "5c81d035-0e62-435c-f282-793d47e2c6de"
      },
      "execution_count": null,
      "outputs": [
        {
          "output_type": "stream",
          "name": "stdout",
          "text": [
            "Cloning into 'DSPROJECT'...\n",
            "remote: Enumerating objects: 24, done.\u001b[K\n",
            "remote: Counting objects: 100% (24/24), done.\u001b[K\n",
            "remote: Compressing objects: 100% (22/22), done.\u001b[K\n",
            "remote: Total 24 (delta 10), reused 0 (delta 0), pack-reused 0 (from 0)\u001b[K\n",
            "Receiving objects: 100% (24/24), 22.40 KiB | 5.60 MiB/s, done.\n",
            "Resolving deltas: 100% (10/10), done.\n"
          ]
        }
      ]
    },
    {
      "cell_type": "code",
      "source": [
        "#importing library\n",
        "import pandas as pd\n",
        "import numpy as np\n",
        "import seaborn as sns\n",
        "import matplotlib.pyplot as plt\n",
        "from plotly import express as px\n"
      ],
      "metadata": {
        "id": "MZbZgsSDY0T-"
      },
      "execution_count": 1,
      "outputs": []
    },
    {
      "cell_type": "code",
      "source": [
        "from google.colab import drive\n",
        "drive.mount('/content/drive')"
      ],
      "metadata": {
        "colab": {
          "base_uri": "https://localhost:8080/"
        },
        "id": "SV9hrRJoGOFg",
        "outputId": "2dbbfa3e-d19a-4d95-fd6e-11360dbfd2e9"
      },
      "execution_count": 6,
      "outputs": [
        {
          "output_type": "stream",
          "name": "stdout",
          "text": [
            "Drive already mounted at /content/drive; to attempt to forcibly remount, call drive.mount(\"/content/drive\", force_remount=True).\n"
          ]
        }
      ]
    },
    {
      "cell_type": "code",
      "source": [
        "import pandas as pd\n",
        "\n",
        "# Correct file path\n",
        "file_path = '/content/drive/MyDrive/data set destinations .csv'\n",
        "\n",
        "# Load the dataset\n",
        "data = pd.read_csv(file_path, encoding='latin1')\n",
        "\n",
        "\n"
      ],
      "metadata": {
        "id": "qYMqqx0lRAJg"
      },
      "execution_count": 16,
      "outputs": []
    },
    {
      "cell_type": "code",
      "source": [
        "# Display the first few rows\n",
        "print(data.head())"
      ],
      "metadata": {
        "colab": {
          "base_uri": "https://localhost:8080/"
        },
        "id": "dvssMD49Rr-P",
        "outputId": "f9a79a06-a6e1-4789-dfc3-3b2f86187bb9"
      },
      "execution_count": 18,
      "outputs": [
        {
          "output_type": "stream",
          "name": "stdout",
          "text": [
            "  Destination    Region Country Category   Latitude  Longitude  \\\n",
            "0        Rome     Lazio   Italy     City  41.902782  12.496366   \n",
            "1    Florence   Tuscany   Italy     City  43.769581  11.255772   \n",
            "2      Venice    Veneto   Italy     City  45.435559  12.336196   \n",
            "3       Milan  Lombardy   Italy     City  45.464643   9.188540   \n",
            "4      Naples  Campania   Italy     City  40.851330  14.254720   \n",
            "\n",
            "  Approximate Annual Tourists Currency Majority Religion  \\\n",
            "0                  14 million     Euro    Roman Catholic   \n",
            "1                  10 million     Euro    Roman Catholic   \n",
            "2                  10 million     Euro    Roman Catholic   \n",
            "3                   7 million     Euro    Roman Catholic   \n",
            "4                   5 million     Euro    Roman Catholic   \n",
            "\n",
            "                   Famous Foods Language  \\\n",
            "0          Pizza, Pasta, Gelato  Italian   \n",
            "1          Pizza, Pasta, Gelato  Italian   \n",
            "2          Pizza, Pasta, Gelato  Italian   \n",
            "3  Risotto, Ossobuco, Panettone  Italian   \n",
            "4         Pizza, Pasta, Cannoli  Italian   \n",
            "\n",
            "                      Best Time to Visit Cost of Living  \\\n",
            "0  Spring (April-May) or Fall (Sept-Oct)    Medium-high   \n",
            "1  Spring (April-May) or Fall (Sept-Oct)    Medium-high   \n",
            "2  Spring (April-May) or Fall (Sept-Oct)    Medium-high   \n",
            "3  Spring (April-May) or Fall (Sept-Oct)           High   \n",
            "4  Spring (April-May) or Fall (Sept-Oct)         Medium   \n",
            "\n",
            "                                          Safety  \\\n",
            "0  Generally safe, but watch out for pickpockets   \n",
            "1  Generally safe, but watch out for pickpockets   \n",
            "2  Generally safe, but watch out for pickpockets   \n",
            "3  Generally safe, but watch out for pickpockets   \n",
            "4    Generally safe, but be aware of pickpockets   \n",
            "\n",
            "                               Cultural Significance  \\\n",
            "0  The capital city, known for its historical lan...   \n",
            "1  A Renaissance city famous for its art, archite...   \n",
            "2  A unique city built on canals, known for its g...   \n",
            "3  A fashion capital known for its shopping, muse...   \n",
            "4  A vibrant city known for its delicious food, h...   \n",
            "\n",
            "                                         Description  \n",
            "0  A hub of ancient history and modern culture, w...  \n",
            "1  Home to world-class museums, including the Uff...  \n",
            "2  An iconic city of water, renowned for romantic...  \n",
            "3  A modern city with an ancient soul, featuring ...  \n",
            "4  Famous for pizza, Pompeii, and proximity to th...  \n"
          ]
        }
      ]
    },
    {
      "cell_type": "code",
      "source": [
        "# Display the last few rows\n",
        "print(data.tail())"
      ],
      "metadata": {
        "colab": {
          "base_uri": "https://localhost:8080/"
        },
        "id": "bnLn4rM1RxNJ",
        "outputId": "020612a3-038f-4457-e22d-131ac52b1871"
      },
      "execution_count": 20,
      "outputs": [
        {
          "output_type": "stream",
          "name": "stdout",
          "text": [
            "           Destination          Region Country        Category   Latitude  \\\n",
            "204           Kopaonik  Central Serbia  Serbia  Mountain Range  43.575278   \n",
            "205  Novi Sad Fortress        Novi Sad  Serbia        Fortress  45.263333   \n",
            "206   Sremski Karlovci       Vojvodina  Serbia            Town  45.263333   \n",
            "207           Subotica     North Backa  Serbia            City  46.083333   \n",
            "208     Vrnja?ka Banja           Ra?ka  Serbia        Spa Town  43.519722   \n",
            "\n",
            "     Longitude Approximate Annual Tourists             Currency  \\\n",
            "204  20.760556                     100,000  Serbian dinar (RSD)   \n",
            "205  19.846667                      50,000  Serbian dinar (RSD)   \n",
            "206  19.846667                      25,000  Serbian dinar (RSD)   \n",
            "207  18.966667                      20,000  Serbian dinar (RSD)   \n",
            "208  20.851389                      10,000  Serbian dinar (RSD)   \n",
            "\n",
            "    Majority Religion                Famous Foods            Language  \\\n",
            "204  Serbian Orthodox  ?evapi, Pljeskavica, Sarma             Serbian   \n",
            "205  Serbian Orthodox  ?evapi, Pljeskavica, Sarma             Serbian   \n",
            "206  Serbian Orthodox  ?evapi, Pljeskavica, Sarma             Serbian   \n",
            "207  Serbian Orthodox  ?evapi, Pljeskavica, Sarma  Serbian, Hungarian   \n",
            "208  Serbian Orthodox  ?evapi, Pljeskavica, Sarma             Serbian   \n",
            "\n",
            "                                    Best Time to Visit Cost of Living  \\\n",
            "204  Winter (December-March) for skiing, Summer (Ju...    Medium-high   \n",
            "205                                         Year-round           Free   \n",
            "206               Spring (April-May) or Fall (Sep-Oct)         Medium   \n",
            "207               Spring (April-May) or Fall (Sep-Oct)         Medium   \n",
            "208                                         Year-round    Medium-high   \n",
            "\n",
            "             Safety                              Cultural Significance  \\\n",
            "204  Generally safe  A popular ski resort area in the winter, offer...   \n",
            "205  Generally safe  A historic fortress overlooking the Danube Riv...   \n",
            "206  Generally safe  A historic town known for its vineyards, winer...   \n",
            "207  Generally safe  A city on the border with Hungary, known for i...   \n",
            "208  Generally safe  A spa town known for its mineral waters, therm...   \n",
            "\n",
            "    Description  \n",
            "204         NaN  \n",
            "205         NaN  \n",
            "206         NaN  \n",
            "207         NaN  \n",
            "208         NaN  \n"
          ]
        }
      ]
    },
    {
      "cell_type": "code",
      "source": [
        "#\n",
        "print(data.info())"
      ],
      "metadata": {
        "colab": {
          "base_uri": "https://localhost:8080/"
        },
        "id": "0FMBAs3AR9Ly",
        "outputId": "09661cf0-2685-4abb-dea6-31486d25c22d"
      },
      "execution_count": 28,
      "outputs": [
        {
          "output_type": "stream",
          "name": "stdout",
          "text": [
            "<class 'pandas.core.frame.DataFrame'>\n",
            "RangeIndex: 209 entries, 0 to 208\n",
            "Data columns (total 16 columns):\n",
            " #   Column                       Non-Null Count  Dtype  \n",
            "---  ------                       --------------  -----  \n",
            " 0   Destination                  209 non-null    object \n",
            " 1   Region                       209 non-null    object \n",
            " 2   Country                      209 non-null    object \n",
            " 3   Category                     209 non-null    object \n",
            " 4   Latitude                     209 non-null    float64\n",
            " 5   Longitude                    209 non-null    float64\n",
            " 6   Approximate Annual Tourists  209 non-null    object \n",
            " 7   Currency                     209 non-null    object \n",
            " 8   Majority Religion            209 non-null    object \n",
            " 9   Famous Foods                 209 non-null    object \n",
            " 10  Language                     209 non-null    object \n",
            " 11  Best Time to Visit           209 non-null    object \n",
            " 12  Cost of Living               209 non-null    object \n",
            " 13  Safety                       209 non-null    object \n",
            " 14  Cultural Significance        209 non-null    object \n",
            " 15  Description                  159 non-null    object \n",
            "dtypes: float64(2), object(14)\n",
            "memory usage: 26.2+ KB\n",
            "None\n"
          ]
        }
      ]
    },
    {
      "cell_type": "code",
      "source": [
        "# Display the column names to identify unwanted columns\n",
        "data.columns\n",
        "\n"
      ],
      "metadata": {
        "colab": {
          "base_uri": "https://localhost:8080/"
        },
        "id": "KVq2RyRUTJkW",
        "outputId": "ce1f3631-e372-4b19-f00d-2ad8d3f34a84"
      },
      "execution_count": 31,
      "outputs": [
        {
          "output_type": "execute_result",
          "data": {
            "text/plain": [
              "Index(['Destination', 'Region', 'Country', 'Category', 'Latitude', 'Longitude',\n",
              "       'Approximate Annual Tourists', 'Currency', 'Majority Religion',\n",
              "       'Famous Foods', 'Language', 'Best Time to Visit', 'Cost of Living',\n",
              "       'Safety', 'Cultural Significance', 'Description'],\n",
              "      dtype='object')"
            ]
          },
          "metadata": {},
          "execution_count": 31
        }
      ]
    },
    {
      "cell_type": "code",
      "source": [
        " #Check for missing values in the dataset\n",
        "missing_values = data.isnull().sum()\n",
        "\n",
        "missing_values\n"
      ],
      "metadata": {
        "colab": {
          "base_uri": "https://localhost:8080/",
          "height": 585
        },
        "id": "N0ZxvyT9TU0o",
        "outputId": "02072403-c5ed-414c-fbac-8eb259053052"
      },
      "execution_count": 33,
      "outputs": [
        {
          "output_type": "execute_result",
          "data": {
            "text/plain": [
              "Destination                     0\n",
              "Region                          0\n",
              "Country                         0\n",
              "Category                        0\n",
              "Latitude                        0\n",
              "Longitude                       0\n",
              "Approximate Annual Tourists     0\n",
              "Currency                        0\n",
              "Majority Religion               0\n",
              "Famous Foods                    0\n",
              "Language                        0\n",
              "Best Time to Visit              0\n",
              "Cost of Living                  0\n",
              "Safety                          0\n",
              "Cultural Significance           0\n",
              "Description                    50\n",
              "dtype: int64"
            ],
            "text/html": [
              "<div>\n",
              "<style scoped>\n",
              "    .dataframe tbody tr th:only-of-type {\n",
              "        vertical-align: middle;\n",
              "    }\n",
              "\n",
              "    .dataframe tbody tr th {\n",
              "        vertical-align: top;\n",
              "    }\n",
              "\n",
              "    .dataframe thead th {\n",
              "        text-align: right;\n",
              "    }\n",
              "</style>\n",
              "<table border=\"1\" class=\"dataframe\">\n",
              "  <thead>\n",
              "    <tr style=\"text-align: right;\">\n",
              "      <th></th>\n",
              "      <th>0</th>\n",
              "    </tr>\n",
              "  </thead>\n",
              "  <tbody>\n",
              "    <tr>\n",
              "      <th>Destination</th>\n",
              "      <td>0</td>\n",
              "    </tr>\n",
              "    <tr>\n",
              "      <th>Region</th>\n",
              "      <td>0</td>\n",
              "    </tr>\n",
              "    <tr>\n",
              "      <th>Country</th>\n",
              "      <td>0</td>\n",
              "    </tr>\n",
              "    <tr>\n",
              "      <th>Category</th>\n",
              "      <td>0</td>\n",
              "    </tr>\n",
              "    <tr>\n",
              "      <th>Latitude</th>\n",
              "      <td>0</td>\n",
              "    </tr>\n",
              "    <tr>\n",
              "      <th>Longitude</th>\n",
              "      <td>0</td>\n",
              "    </tr>\n",
              "    <tr>\n",
              "      <th>Approximate Annual Tourists</th>\n",
              "      <td>0</td>\n",
              "    </tr>\n",
              "    <tr>\n",
              "      <th>Currency</th>\n",
              "      <td>0</td>\n",
              "    </tr>\n",
              "    <tr>\n",
              "      <th>Majority Religion</th>\n",
              "      <td>0</td>\n",
              "    </tr>\n",
              "    <tr>\n",
              "      <th>Famous Foods</th>\n",
              "      <td>0</td>\n",
              "    </tr>\n",
              "    <tr>\n",
              "      <th>Language</th>\n",
              "      <td>0</td>\n",
              "    </tr>\n",
              "    <tr>\n",
              "      <th>Best Time to Visit</th>\n",
              "      <td>0</td>\n",
              "    </tr>\n",
              "    <tr>\n",
              "      <th>Cost of Living</th>\n",
              "      <td>0</td>\n",
              "    </tr>\n",
              "    <tr>\n",
              "      <th>Safety</th>\n",
              "      <td>0</td>\n",
              "    </tr>\n",
              "    <tr>\n",
              "      <th>Cultural Significance</th>\n",
              "      <td>0</td>\n",
              "    </tr>\n",
              "    <tr>\n",
              "      <th>Description</th>\n",
              "      <td>50</td>\n",
              "    </tr>\n",
              "  </tbody>\n",
              "</table>\n",
              "</div><br><label><b>dtype:</b> int64</label>"
            ]
          },
          "metadata": {},
          "execution_count": 33
        }
      ]
    },
    {
      "cell_type": "code",
      "source": [
        "# Dropping non-essential columns for this analysis\n",
        "columns_to_drop = ['Description']  # Drop this due to missing values and qualitative nature\n",
        "cleaned_data = data.drop(columns=columns_to_drop)\n",
        "\n",
        "\n"
      ],
      "metadata": {
        "id": "tfhLzdqjTlE8"
      },
      "execution_count": 35,
      "outputs": []
    },
    {
      "cell_type": "code",
      "source": [
        " #Verify the remaining columns\n",
        "cleaned_data.columns"
      ],
      "metadata": {
        "colab": {
          "base_uri": "https://localhost:8080/"
        },
        "id": "dpZlg-w1UEhX",
        "outputId": "a1f9bb63-d862-4cf1-b065-fc24f81f4f2b"
      },
      "execution_count": 36,
      "outputs": [
        {
          "output_type": "execute_result",
          "data": {
            "text/plain": [
              "Index(['Destination', 'Region', 'Country', 'Category', 'Latitude', 'Longitude',\n",
              "       'Approximate Annual Tourists', 'Currency', 'Majority Religion',\n",
              "       'Famous Foods', 'Language', 'Best Time to Visit', 'Cost of Living',\n",
              "       'Safety', 'Cultural Significance'],\n",
              "      dtype='object')"
            ]
          },
          "metadata": {},
          "execution_count": 36
        }
      ]
    }
  ]
}